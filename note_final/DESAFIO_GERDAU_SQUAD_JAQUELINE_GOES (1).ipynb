{
  "nbformat": 4,
  "nbformat_minor": 0,
  "metadata": {
    "colab": {
      "name": "DESAFIO_GERDAU_SQUAD_JAQUELINE_GOES.ipynb",
      "provenance": []
    },
    "kernelspec": {
      "name": "python3",
      "display_name": "Python 3"
    },
    "language_info": {
      "name": "python"
    }
  },
  "cells": [
    {
      "cell_type": "markdown",
      "source": [
        "# **Bootcamp Data Analytics - Squad Jaqueline Goes - Desafio Gerda**u\n",
        "*   Camila Cestari Cerreti\n",
        "*   Carla Mendes da Silva\n",
        "*   Cláudia dos Santos Silva\n",
        "*   Leticia Shiota\n",
        "*   Lizandra Broseghini Föeger\n",
        "*   Nara Guimarães\n",
        "\n",
        "\n",
        "\n"
      ],
      "metadata": {
        "id": "Ivn4BLtE08rq"
      }
    },
    {
      "cell_type": "markdown",
      "source": [
        "**Instruções:**\n",
        "Descreva a abordagem utilizada na resolução.\\\n",
        "Trechos de códigos deverão ter comentários essenciais.\\\n",
        "Haverá sessão de dúvidas, direcionando o entendimento dos problemas. Não haverá comentário de solução.\n"
      ],
      "metadata": {
        "id": "W1K5JNDB2cS8"
      }
    },
    {
      "cell_type": "markdown",
      "source": [
        "## **1) Estudo do desempenho da siderurgia brasileira**\n",
        "\n",
        "A indústria do aço possui grande importância na indústria de transformação brasileira, na participação do PIB e na geração de empregos. Segundo o IABr (Instituto Aço Brasil) a produção de aço bruto brasileiro atingiu 32,6 milhões de toneladas em 2019, colocando o Brasil como o 9º maior produtor de aço no mundo. Foram 112 mil colaboradores, entre próprios e terceiros, que tornaram esse resultado possível.\n",
        "\n",
        "[https://acobrasil.org.br/](https://acobrasil.org.br/)\n",
        "\n"
      ],
      "metadata": {
        "id": "j9MTnZQRBMs4"
      }
    },
    {
      "cell_type": "markdown",
      "source": [
        "## Tratamento de dados"
      ],
      "metadata": {
        "id": "u1-lzWNZ40lj"
      }
    },
    {
      "cell_type": "code",
      "execution_count": 19,
      "metadata": {
        "id": "XV7LtF5vzBLI"
      },
      "outputs": [],
      "source": [
        "# Importação de bibliotecas\n",
        "import pandas as pd"
      ]
    },
    {
      "cell_type": "code",
      "source": [
        "# Importação de dados\n",
        "performance = pd.read_excel('../Projeto Gerdau/Performance_Mensal.xls', header = 4)\n",
        "performance"
      ],
      "metadata": {
        "colab": {
          "base_uri": "https://localhost:8080/",
          "height": 360
        },
        "id": "jwgzOwPN5gWO",
        "outputId": "16903798-9cb0-4c76-b69b-19f4daf03e3a"
      },
      "execution_count": 25,
      "outputs": [
        {
          "output_type": "error",
          "ename": "FileNotFoundError",
          "evalue": "ignored",
          "traceback": [
            "\u001b[0;31m---------------------------------------------------------------------------\u001b[0m",
            "\u001b[0;31mFileNotFoundError\u001b[0m                         Traceback (most recent call last)",
            "\u001b[0;32m<ipython-input-25-18529f619720>\u001b[0m in \u001b[0;36m<module>\u001b[0;34m()\u001b[0m\n\u001b[1;32m      1\u001b[0m \u001b[0;31m# Importação de dados\u001b[0m\u001b[0;34m\u001b[0m\u001b[0;34m\u001b[0m\u001b[0;34m\u001b[0m\u001b[0m\n\u001b[0;32m----> 2\u001b[0;31m \u001b[0mperformance\u001b[0m \u001b[0;34m=\u001b[0m \u001b[0mpd\u001b[0m\u001b[0;34m.\u001b[0m\u001b[0mread_excel\u001b[0m\u001b[0;34m(\u001b[0m\u001b[0;34m'../Projeto Gerdau/Performance_Mensal.xls'\u001b[0m\u001b[0;34m,\u001b[0m \u001b[0mheader\u001b[0m \u001b[0;34m=\u001b[0m \u001b[0;36m4\u001b[0m\u001b[0;34m)\u001b[0m\u001b[0;34m\u001b[0m\u001b[0;34m\u001b[0m\u001b[0m\n\u001b[0m\u001b[1;32m      3\u001b[0m \u001b[0mperformance\u001b[0m\u001b[0;34m\u001b[0m\u001b[0;34m\u001b[0m\u001b[0m\n",
            "\u001b[0;32m/usr/local/lib/python3.7/dist-packages/pandas/util/_decorators.py\u001b[0m in \u001b[0;36mwrapper\u001b[0;34m(*args, **kwargs)\u001b[0m\n\u001b[1;32m    309\u001b[0m                     \u001b[0mstacklevel\u001b[0m\u001b[0;34m=\u001b[0m\u001b[0mstacklevel\u001b[0m\u001b[0;34m,\u001b[0m\u001b[0;34m\u001b[0m\u001b[0;34m\u001b[0m\u001b[0m\n\u001b[1;32m    310\u001b[0m                 )\n\u001b[0;32m--> 311\u001b[0;31m             \u001b[0;32mreturn\u001b[0m \u001b[0mfunc\u001b[0m\u001b[0;34m(\u001b[0m\u001b[0;34m*\u001b[0m\u001b[0margs\u001b[0m\u001b[0;34m,\u001b[0m \u001b[0;34m**\u001b[0m\u001b[0mkwargs\u001b[0m\u001b[0;34m)\u001b[0m\u001b[0;34m\u001b[0m\u001b[0;34m\u001b[0m\u001b[0m\n\u001b[0m\u001b[1;32m    312\u001b[0m \u001b[0;34m\u001b[0m\u001b[0m\n\u001b[1;32m    313\u001b[0m         \u001b[0;32mreturn\u001b[0m \u001b[0mwrapper\u001b[0m\u001b[0;34m\u001b[0m\u001b[0;34m\u001b[0m\u001b[0m\n",
            "\u001b[0;32m/usr/local/lib/python3.7/dist-packages/pandas/io/excel/_base.py\u001b[0m in \u001b[0;36mread_excel\u001b[0;34m(io, sheet_name, header, names, index_col, usecols, squeeze, dtype, engine, converters, true_values, false_values, skiprows, nrows, na_values, keep_default_na, na_filter, verbose, parse_dates, date_parser, thousands, comment, skipfooter, convert_float, mangle_dupe_cols, storage_options)\u001b[0m\n\u001b[1;32m    362\u001b[0m     \u001b[0;32mif\u001b[0m \u001b[0;32mnot\u001b[0m \u001b[0misinstance\u001b[0m\u001b[0;34m(\u001b[0m\u001b[0mio\u001b[0m\u001b[0;34m,\u001b[0m \u001b[0mExcelFile\u001b[0m\u001b[0;34m)\u001b[0m\u001b[0;34m:\u001b[0m\u001b[0;34m\u001b[0m\u001b[0;34m\u001b[0m\u001b[0m\n\u001b[1;32m    363\u001b[0m         \u001b[0mshould_close\u001b[0m \u001b[0;34m=\u001b[0m \u001b[0;32mTrue\u001b[0m\u001b[0;34m\u001b[0m\u001b[0;34m\u001b[0m\u001b[0m\n\u001b[0;32m--> 364\u001b[0;31m         \u001b[0mio\u001b[0m \u001b[0;34m=\u001b[0m \u001b[0mExcelFile\u001b[0m\u001b[0;34m(\u001b[0m\u001b[0mio\u001b[0m\u001b[0;34m,\u001b[0m \u001b[0mstorage_options\u001b[0m\u001b[0;34m=\u001b[0m\u001b[0mstorage_options\u001b[0m\u001b[0;34m,\u001b[0m \u001b[0mengine\u001b[0m\u001b[0;34m=\u001b[0m\u001b[0mengine\u001b[0m\u001b[0;34m)\u001b[0m\u001b[0;34m\u001b[0m\u001b[0;34m\u001b[0m\u001b[0m\n\u001b[0m\u001b[1;32m    365\u001b[0m     \u001b[0;32melif\u001b[0m \u001b[0mengine\u001b[0m \u001b[0;32mand\u001b[0m \u001b[0mengine\u001b[0m \u001b[0;34m!=\u001b[0m \u001b[0mio\u001b[0m\u001b[0;34m.\u001b[0m\u001b[0mengine\u001b[0m\u001b[0;34m:\u001b[0m\u001b[0;34m\u001b[0m\u001b[0;34m\u001b[0m\u001b[0m\n\u001b[1;32m    366\u001b[0m         raise ValueError(\n",
            "\u001b[0;32m/usr/local/lib/python3.7/dist-packages/pandas/io/excel/_base.py\u001b[0m in \u001b[0;36m__init__\u001b[0;34m(self, path_or_buffer, engine, storage_options)\u001b[0m\n\u001b[1;32m   1190\u001b[0m             \u001b[0;32melse\u001b[0m\u001b[0;34m:\u001b[0m\u001b[0;34m\u001b[0m\u001b[0;34m\u001b[0m\u001b[0m\n\u001b[1;32m   1191\u001b[0m                 ext = inspect_excel_format(\n\u001b[0;32m-> 1192\u001b[0;31m                     \u001b[0mcontent_or_path\u001b[0m\u001b[0;34m=\u001b[0m\u001b[0mpath_or_buffer\u001b[0m\u001b[0;34m,\u001b[0m \u001b[0mstorage_options\u001b[0m\u001b[0;34m=\u001b[0m\u001b[0mstorage_options\u001b[0m\u001b[0;34m\u001b[0m\u001b[0;34m\u001b[0m\u001b[0m\n\u001b[0m\u001b[1;32m   1193\u001b[0m                 )\n\u001b[1;32m   1194\u001b[0m                 \u001b[0;32mif\u001b[0m \u001b[0mext\u001b[0m \u001b[0;32mis\u001b[0m \u001b[0;32mNone\u001b[0m\u001b[0;34m:\u001b[0m\u001b[0;34m\u001b[0m\u001b[0;34m\u001b[0m\u001b[0m\n",
            "\u001b[0;32m/usr/local/lib/python3.7/dist-packages/pandas/io/excel/_base.py\u001b[0m in \u001b[0;36minspect_excel_format\u001b[0;34m(content_or_path, storage_options)\u001b[0m\n\u001b[1;32m   1069\u001b[0m \u001b[0;34m\u001b[0m\u001b[0m\n\u001b[1;32m   1070\u001b[0m     with get_handle(\n\u001b[0;32m-> 1071\u001b[0;31m         \u001b[0mcontent_or_path\u001b[0m\u001b[0;34m,\u001b[0m \u001b[0;34m\"rb\"\u001b[0m\u001b[0;34m,\u001b[0m \u001b[0mstorage_options\u001b[0m\u001b[0;34m=\u001b[0m\u001b[0mstorage_options\u001b[0m\u001b[0;34m,\u001b[0m \u001b[0mis_text\u001b[0m\u001b[0;34m=\u001b[0m\u001b[0;32mFalse\u001b[0m\u001b[0;34m\u001b[0m\u001b[0;34m\u001b[0m\u001b[0m\n\u001b[0m\u001b[1;32m   1072\u001b[0m     ) as handle:\n\u001b[1;32m   1073\u001b[0m         \u001b[0mstream\u001b[0m \u001b[0;34m=\u001b[0m \u001b[0mhandle\u001b[0m\u001b[0;34m.\u001b[0m\u001b[0mhandle\u001b[0m\u001b[0;34m\u001b[0m\u001b[0;34m\u001b[0m\u001b[0m\n",
            "\u001b[0;32m/usr/local/lib/python3.7/dist-packages/pandas/io/common.py\u001b[0m in \u001b[0;36mget_handle\u001b[0;34m(path_or_buf, mode, encoding, compression, memory_map, is_text, errors, storage_options)\u001b[0m\n\u001b[1;32m    709\u001b[0m         \u001b[0;32melse\u001b[0m\u001b[0;34m:\u001b[0m\u001b[0;34m\u001b[0m\u001b[0;34m\u001b[0m\u001b[0m\n\u001b[1;32m    710\u001b[0m             \u001b[0;31m# Binary mode\u001b[0m\u001b[0;34m\u001b[0m\u001b[0;34m\u001b[0m\u001b[0;34m\u001b[0m\u001b[0m\n\u001b[0;32m--> 711\u001b[0;31m             \u001b[0mhandle\u001b[0m \u001b[0;34m=\u001b[0m \u001b[0mopen\u001b[0m\u001b[0;34m(\u001b[0m\u001b[0mhandle\u001b[0m\u001b[0;34m,\u001b[0m \u001b[0mioargs\u001b[0m\u001b[0;34m.\u001b[0m\u001b[0mmode\u001b[0m\u001b[0;34m)\u001b[0m\u001b[0;34m\u001b[0m\u001b[0;34m\u001b[0m\u001b[0m\n\u001b[0m\u001b[1;32m    712\u001b[0m         \u001b[0mhandles\u001b[0m\u001b[0;34m.\u001b[0m\u001b[0mappend\u001b[0m\u001b[0;34m(\u001b[0m\u001b[0mhandle\u001b[0m\u001b[0;34m)\u001b[0m\u001b[0;34m\u001b[0m\u001b[0;34m\u001b[0m\u001b[0m\n\u001b[1;32m    713\u001b[0m \u001b[0;34m\u001b[0m\u001b[0m\n",
            "\u001b[0;31mFileNotFoundError\u001b[0m: [Errno 2] No such file or directory: '../Projeto Gerdau/Performance_Mensal.xls'"
          ]
        }
      ]
    },
    {
      "cell_type": "code",
      "source": [
        "# Verificando o número de colunas\n",
        "performance.shape[1]"
      ],
      "metadata": {
        "id": "eBgWGNJE6qTz"
      },
      "execution_count": null,
      "outputs": []
    },
    {
      "cell_type": "code",
      "source": [
        "# Verificando quais são as colunas\n",
        "performance.columns"
      ],
      "metadata": {
        "id": "WroBZUbW6uw2"
      },
      "execution_count": null,
      "outputs": []
    },
    {
      "cell_type": "code",
      "source": [
        "# Arrumando a base de dados\n",
        "## Nomeando as colunas\n",
        "def months_columns (mes_inicio, ano_inicio, n_coluna):\n",
        "    nome_col = []\n",
        "    lista_mes = ['Jan', 'Fev', 'Mar','Abr','Mai','Jun','Jul','Ago','Set','Out','Nov','Dez']\n",
        "    i = 0 \n",
        "    while(i<n_coluna):\n",
        "        nome_temp = lista_mes[mes_inicio -1] +\"_\" +str(ano_inicio)\n",
        "        nome_col.append(nome_temp)\n",
        "        mes_inicio += 1\n",
        "        if mes_inicio == 13:\n",
        "            mes_inicio = 1\n",
        "            ano_inicio += 1\n",
        "        i +=1\n",
        "    return nome_col\n",
        "\n",
        "def fix_df(df, mes_inicio, ano_inicio, n_coluna=98):\n",
        "    months_list = months_columns(mes_inicio, ano_inicio, n_coluna)\n",
        "    new_columns = list()\n",
        "    new_columns.append('especificacao')\n",
        "    new_columns.extend(months_list)\n",
        "    new_columns.append('pct')\n",
        "    df.columns = new_columns\n",
        "    return df"
      ],
      "metadata": {
        "id": "CsfRWdnK61Za"
      },
      "execution_count": null,
      "outputs": []
    },
    {
      "cell_type": "code",
      "source": [
        "# Aplicando a função\n",
        "temp = fix_df(df=performance, mes_inicio=1,ano_inicio=2013)"
      ],
      "metadata": {
        "id": "kPvx2vip6-WM"
      },
      "execution_count": null,
      "outputs": []
    },
    {
      "cell_type": "code",
      "source": [
        "# Analisando a base de dados\n",
        "temp"
      ],
      "metadata": {
        "id": "dbhXV9o97Apk"
      },
      "execution_count": null,
      "outputs": []
    },
    {
      "cell_type": "code",
      "source": [
        "# Removendo as linhas que não serão utilizadas e estão com valores nulos.\n",
        "temp2 =pd.DataFrame(temp.drop([0,44,45,46,47,48,49], axis=0))\n",
        "temp2"
      ],
      "metadata": {
        "id": "OrLCqJjr7GL1"
      },
      "execution_count": null,
      "outputs": []
    },
    {
      "cell_type": "markdown",
      "source": [
        "- Produção: Aço Bruto + Laminados (Planos + Longos) + Semiacabado p/ venda (Placas + Blocos e Tarugos) + Ferro-Gusa;\n",
        "- Venda internas: Laminados (Planos + Longos) + Semiacabado p/ venda (Placas + Blocos e Tarugos);\n",
        "- Venda ezxterna: Laminados (Planos + Longos) + Semiacabado p/ venda (Placas + Blocos e Tarugos);\n",
        "- Comércio Exterior / Exportação: Laminados (Planos + Longos) + Semiacabado p/ venda (Placas + Blocos e Tarugos);\n",
        "- Importações: Laminados (Planos + Longos) + Semiacabado p/ venda\n",
        "- Laminados: Planos + Longos;\n",
        "- Semiacabado p/ venda: Placas + Blocos e Tarugos;\n",
        "- Consumno aparente: Planos + Longos.\n",
        "\n",
        "Considerando as linhas acima como sendo o resultado da somatória das demais linhas. As linhas produção, venda interna, venda externa, comércio exterior, exportações, importações, e consumno aparente, laminados, semiacabados p/venda serão removidos com exceção da linha semiacado p/ Venda pois esta não apresenta uma subcategoria.\n",
        "\n",
        "A linhas Total e Milhões US$ das categorias de importação e exportação serão incluídas em outro DataFrame.\n"
      ],
      "metadata": {
        "id": "g_Jhtmh-7R-_"
      }
    },
    {
      "cell_type": "code",
      "source": [
        "temp3 =pd.DataFrame(temp2.drop([1,3,6,10,11,14,17,18,21,24,25,26,29,32,33,34,35,39,40,41,], axis=0))\n",
        "temp3"
      ],
      "metadata": {
        "id": "DMcJmZ2Y7zJo"
      },
      "execution_count": null,
      "outputs": []
    },
    {
      "cell_type": "code",
      "source": [
        "# Reset index\n",
        "temp3.reset_index(drop=True, inplace = True)"
      ],
      "metadata": {
        "id": "7cuNQsQp72Lt"
      },
      "execution_count": null,
      "outputs": []
    },
    {
      "cell_type": "code",
      "source": [
        "# Renomeando as linhas da coluna 'especificação' para identificar a categoria que elas pertencem, sendo:\n",
        "# Produção\n",
        "# Venda interna - Vinterna\n",
        "# Venda externa - Vexterna\n",
        "# Comércio Exterior/Exportação - Cexterior\n",
        "# Importação\n",
        "# Consumo Aparente - Caparente\n",
        "value = [\"Producao.Aco Bruto\", \"Producao.Planos\",\"Producao.Longos\",\"Producao.Placas\",\"Producao.Blocos\",\"Producao.Ferro-Gusa\",\"Vinterna.Planos\", \n",
        "         \"Vinterna.Longos\",\"Vinterna.Placas\",\"Vinterna.Blocos\",\"Vexterna.Planos\",\"Vexterna.Longos\",\"Vexterna.Placas\",\"Vexterna.Blocos\", \n",
        "         \"Cexterior.Planos\",\"Cexterior.Longos\",\"Cexterior.Placas\",\"Cexterior.Blocos\",\"Importacao.Planos\",\"Importacao.Longos\", \n",
        "         \"Importacao.Semiacabados p/ Venda\",\"Caparente.Planos\", \"Caparente.Longos\"]\n",
        "temp3.iloc[:,[0]] = value\n",
        "temp3"
      ],
      "metadata": {
        "id": "mlKPette75st"
      },
      "execution_count": null,
      "outputs": []
    },
    {
      "cell_type": "code",
      "source": [
        "# Tranformando os dados do formato largo para o formato longo.\n",
        "lista_ano = temp3.columns\n",
        "lista_ano = lista_ano[1:99]\n",
        "df = pd.melt(temp3, id_vars=['especificacao'], value_vars=lista_ano)\n",
        "df.rename(columns = {'variable':'periodo', 'value':'quantidade'}, inplace = True)\n",
        "df"
      ],
      "metadata": {
        "id": "2jqE_lCf8HQ7"
      },
      "execution_count": null,
      "outputs": []
    },
    {
      "cell_type": "code",
      "source": [
        "# Criando uma coluna para ano e uma coluna para mês\n",
        "mes = []\n",
        "ano = []\n",
        "for per in df['periodo']:\n",
        "    periodo = per.split('_')\n",
        "    mes.append(periodo[0])\n",
        "    ano.append(periodo[1])   \n",
        "df['ano'] = ano\n",
        "df['mes'] = mes\n",
        "df"
      ],
      "metadata": {
        "id": "01f3Tcru8JRD"
      },
      "execution_count": null,
      "outputs": []
    },
    {
      "cell_type": "code",
      "source": [
        "# Criando uma coluna para subcategoria e uma coluna para a categoria\n",
        "categoria = []\n",
        "subcategoria = []\n",
        "for esp in df['especificacao']:\n",
        "    total = esp.split('.')\n",
        "    categoria.append(total[0])\n",
        "    subcategoria.append(total[1])   \n",
        "df['categoria'] = categoria\n",
        "df['subcategoria'] = subcategoria\n",
        "df"
      ],
      "metadata": {
        "id": "735yK-SU8Rvd"
      },
      "execution_count": null,
      "outputs": []
    },
    {
      "cell_type": "code",
      "source": [
        "# Criando uma coluna para o trimestre \n",
        "dict_tri = {\n",
        "    'Jan':1,\n",
        "    'Fev':1,\n",
        "    'Mar':1,\n",
        "    'Abr':2,\n",
        "    'Mai':2,\n",
        "    'Jun':2,\n",
        "    'Jul':3,\n",
        "    'Ago':3,\n",
        "    'Set':3,\n",
        "    'Out':4,\n",
        "    'Nov':4,\n",
        "    'Dez':4,\n",
        "}\n",
        "df['trimestre'] = df['mes'].map(dict_tri)\n",
        "df"
      ],
      "metadata": {
        "id": "MqQdJu9L8rmA"
      },
      "execution_count": null,
      "outputs": []
    },
    {
      "cell_type": "code",
      "source": [
        "# Reordenando as colunas\n",
        "df = df[['especificacao', 'categoria', 'subcategoria','trimestre','periodo','ano','mes','quantidade']]\n",
        "df"
      ],
      "metadata": {
        "id": "fO8FFQhr8vkB"
      },
      "execution_count": null,
      "outputs": []
    },
    {
      "cell_type": "code",
      "source": [
        "# Salvando o DataFrame \n",
        "df.to_csv('C:\\\\Users\\\\leshi\\\\Projeto_Gerdau\\\\Quantidade_subcategoria.csv', index=False)"
      ],
      "metadata": {
        "id": "TIEqTcKP8yaC"
      },
      "execution_count": null,
      "outputs": []
    },
    {
      "cell_type": "code",
      "source": [
        "# Criando o DataFrame para Importacao e Exportacao\n",
        "df_imp = temp2.iloc[[31,32,38,39]]\n",
        "df_imp.head()"
      ],
      "metadata": {
        "id": "c7OP3r9I82wi"
      },
      "execution_count": null,
      "outputs": []
    },
    {
      "cell_type": "code",
      "source": [
        "# Renomeando as linhas\n",
        "row = [\"Exportacao.Total(mil_t)\", \"Exportacao.milhoes(dolar)\",\"Importacao.Total(mil_t)\",\"Importacao.milhoes(dolar)\"]\n",
        "df_imp.loc[0:4,['especificacao']] = row\n",
        "df_imp"
      ],
      "metadata": {
        "id": "vn8r_Dkb85eK"
      },
      "execution_count": null,
      "outputs": []
    },
    {
      "cell_type": "code",
      "source": [
        "# Tranformando os dados do formato largo para o formato longo.\n",
        "df_imp_exp = pd.melt(df_imp, id_vars=['especificacao'], value_vars=lista_ano)\n",
        "df_imp_exp.rename(columns = {'variable':'periodo', 'value':'valor'}, inplace = True)\n",
        "df_imp_exp"
      ],
      "metadata": {
        "id": "J0mxr2By873j"
      },
      "execution_count": null,
      "outputs": []
    },
    {
      "cell_type": "code",
      "source": [
        "#Criando uma coluna para ano, mês, categoria e subcategoria\n",
        "mes = []\n",
        "ano = []\n",
        "categoria =[]\n",
        "subcategoria = []\n",
        "for per in df_imp_exp['periodo']:\n",
        "    periodo = per.split('_')\n",
        "    mes.append(periodo[0])\n",
        "    ano.append(periodo[1])   \n",
        "df_imp_exp['ano'] = ano\n",
        "df_imp_exp['mes'] = mes\n",
        "for cat in df_imp_exp['especificacao']:\n",
        "    conjunto = cat.split('.')\n",
        "    categoria.append(conjunto[0])\n",
        "    subcategoria.append(conjunto[1])   \n",
        "df_imp_exp['categoria'] = categoria\n",
        "df_imp_exp['subcategoria'] = subcategoria\n",
        "df_imp_exp"
      ],
      "metadata": {
        "id": "mtyMuyS989p0"
      },
      "execution_count": null,
      "outputs": []
    },
    {
      "cell_type": "code",
      "source": [
        "# Criando uma coluna para o trimestre\n",
        "dict_imp = {\n",
        "    'Jan':1,\n",
        "    'Fev':1,\n",
        "    'Mar':1,\n",
        "    'Abr':2,\n",
        "    'Mai':2,\n",
        "    'Jun':2,\n",
        "    'Jul':3,\n",
        "    'Ago':3,\n",
        "    'Set':3,\n",
        "    'Out':4,\n",
        "    'Nov':4,\n",
        "    'Dez':4\n",
        "}\n",
        "df_imp_exp['trimestre'] = df_imp_exp['mes'].map(dict_imp)"
      ],
      "metadata": {
        "id": "YrnRy-sV9A-x"
      },
      "execution_count": null,
      "outputs": []
    },
    {
      "cell_type": "code",
      "source": [
        "# Reordenando as colunas\n",
        "df_imp_exp = df_imp_exp[['especificacao','categoria','subcategoria','trimestre','periodo','ano','mes','valor']]\n",
        "df_imp_exp"
      ],
      "metadata": {
        "id": "pusXRscu9FJU"
      },
      "execution_count": null,
      "outputs": []
    },
    {
      "cell_type": "code",
      "source": [
        "# Salvando o DataFrame importação e exportação\n",
        "df_imp_exp.to_csv('Importacao_exportacao.csv', index=False)"
      ],
      "metadata": {
        "id": "JxPM0mJj9Ib7"
      },
      "execution_count": null,
      "outputs": []
    },
    {
      "cell_type": "markdown",
      "source": [
        "## Desenvolvimento item 1"
      ],
      "metadata": {
        "id": "-_QERDCo9hYY"
      }
    },
    {
      "cell_type": "markdown",
      "source": [
        "Os dados da planilha Performance_Mensal foram formatados conforme a seção Tratamento de dados, e os dados foram dispostos em dois Data Frames:\n",
        "\n",
        "df_quantidade: Dataframe demonstrando as quantidade das subcategorias por período.\n",
        "\n",
        "df_imp_exp: Quantidade total de aço importado e exportado e seus respectivos valores.\n"
      ],
      "metadata": {
        "id": "HBF0ewv_-KE4"
      }
    },
    {
      "cell_type": "code",
      "source": [
        "import pandas as pd\n",
        "import numpy as np\n",
        "import seaborn as sns\n",
        "import matplotlib.pyplot as plt\n",
        "from plotnine import *\n",
        "from prophet import Prophet\n",
        "from datetime import datetime\n",
        "from dateutil.relativedelta import relativedelta"
      ],
      "metadata": {
        "id": "W3xTNXnF-sh6"
      },
      "execution_count": 10,
      "outputs": []
    },
    {
      "cell_type": "code",
      "source": [
        "# Importando o Dataframe df_quantidade\n",
        "df_quantidade = pd.read_csv('Quantidade_subcategoria.csv',sep=',')\n",
        "df_quantidade"
      ],
      "metadata": {
        "colab": {
          "base_uri": "https://localhost:8080/",
          "height": 268
        },
        "id": "Vnmd0maF-o4U",
        "outputId": "42c86237-15f0-41bc-fd45-46b08c9c5a82"
      },
      "execution_count": 21,
      "outputs": [
        {
          "output_type": "error",
          "ename": "ParserError",
          "evalue": "ignored",
          "traceback": [
            "\u001b[0;31m---------------------------------------------------------------------------\u001b[0m",
            "\u001b[0;31mParserError\u001b[0m                               Traceback (most recent call last)",
            "\u001b[0;32m<ipython-input-21-ab66231a30e8>\u001b[0m in \u001b[0;36m<module>\u001b[0;34m()\u001b[0m\n\u001b[1;32m      1\u001b[0m \u001b[0;31m# Importando o Dataframe df_quantidade\u001b[0m\u001b[0;34m\u001b[0m\u001b[0;34m\u001b[0m\u001b[0;34m\u001b[0m\u001b[0m\n\u001b[0;32m----> 2\u001b[0;31m \u001b[0mdf_quantidade\u001b[0m \u001b[0;34m=\u001b[0m \u001b[0mpd\u001b[0m\u001b[0;34m.\u001b[0m\u001b[0mread_csv\u001b[0m\u001b[0;34m(\u001b[0m\u001b[0;34m'Quantidade_subcategoria.csv'\u001b[0m\u001b[0;34m,\u001b[0m\u001b[0msep\u001b[0m\u001b[0;34m=\u001b[0m\u001b[0;34m','\u001b[0m\u001b[0;34m)\u001b[0m\u001b[0;34m\u001b[0m\u001b[0;34m\u001b[0m\u001b[0m\n\u001b[0m\u001b[1;32m      3\u001b[0m \u001b[0mdf_quantidade\u001b[0m\u001b[0;34m\u001b[0m\u001b[0;34m\u001b[0m\u001b[0m\n",
            "\u001b[0;32m/usr/local/lib/python3.7/dist-packages/pandas/util/_decorators.py\u001b[0m in \u001b[0;36mwrapper\u001b[0;34m(*args, **kwargs)\u001b[0m\n\u001b[1;32m    309\u001b[0m                     \u001b[0mstacklevel\u001b[0m\u001b[0;34m=\u001b[0m\u001b[0mstacklevel\u001b[0m\u001b[0;34m,\u001b[0m\u001b[0;34m\u001b[0m\u001b[0;34m\u001b[0m\u001b[0m\n\u001b[1;32m    310\u001b[0m                 )\n\u001b[0;32m--> 311\u001b[0;31m             \u001b[0;32mreturn\u001b[0m \u001b[0mfunc\u001b[0m\u001b[0;34m(\u001b[0m\u001b[0;34m*\u001b[0m\u001b[0margs\u001b[0m\u001b[0;34m,\u001b[0m \u001b[0;34m**\u001b[0m\u001b[0mkwargs\u001b[0m\u001b[0;34m)\u001b[0m\u001b[0;34m\u001b[0m\u001b[0;34m\u001b[0m\u001b[0m\n\u001b[0m\u001b[1;32m    312\u001b[0m \u001b[0;34m\u001b[0m\u001b[0m\n\u001b[1;32m    313\u001b[0m         \u001b[0;32mreturn\u001b[0m \u001b[0mwrapper\u001b[0m\u001b[0;34m\u001b[0m\u001b[0;34m\u001b[0m\u001b[0m\n",
            "\u001b[0;32m/usr/local/lib/python3.7/dist-packages/pandas/io/parsers/readers.py\u001b[0m in \u001b[0;36mread_csv\u001b[0;34m(filepath_or_buffer, sep, delimiter, header, names, index_col, usecols, squeeze, prefix, mangle_dupe_cols, dtype, engine, converters, true_values, false_values, skipinitialspace, skiprows, skipfooter, nrows, na_values, keep_default_na, na_filter, verbose, skip_blank_lines, parse_dates, infer_datetime_format, keep_date_col, date_parser, dayfirst, cache_dates, iterator, chunksize, compression, thousands, decimal, lineterminator, quotechar, quoting, doublequote, escapechar, comment, encoding, encoding_errors, dialect, error_bad_lines, warn_bad_lines, on_bad_lines, delim_whitespace, low_memory, memory_map, float_precision, storage_options)\u001b[0m\n\u001b[1;32m    584\u001b[0m     \u001b[0mkwds\u001b[0m\u001b[0;34m.\u001b[0m\u001b[0mupdate\u001b[0m\u001b[0;34m(\u001b[0m\u001b[0mkwds_defaults\u001b[0m\u001b[0;34m)\u001b[0m\u001b[0;34m\u001b[0m\u001b[0;34m\u001b[0m\u001b[0m\n\u001b[1;32m    585\u001b[0m \u001b[0;34m\u001b[0m\u001b[0m\n\u001b[0;32m--> 586\u001b[0;31m     \u001b[0;32mreturn\u001b[0m \u001b[0m_read\u001b[0m\u001b[0;34m(\u001b[0m\u001b[0mfilepath_or_buffer\u001b[0m\u001b[0;34m,\u001b[0m \u001b[0mkwds\u001b[0m\u001b[0;34m)\u001b[0m\u001b[0;34m\u001b[0m\u001b[0;34m\u001b[0m\u001b[0m\n\u001b[0m\u001b[1;32m    587\u001b[0m \u001b[0;34m\u001b[0m\u001b[0m\n\u001b[1;32m    588\u001b[0m \u001b[0;34m\u001b[0m\u001b[0m\n",
            "\u001b[0;32m/usr/local/lib/python3.7/dist-packages/pandas/io/parsers/readers.py\u001b[0m in \u001b[0;36m_read\u001b[0;34m(filepath_or_buffer, kwds)\u001b[0m\n\u001b[1;32m    486\u001b[0m \u001b[0;34m\u001b[0m\u001b[0m\n\u001b[1;32m    487\u001b[0m     \u001b[0;32mwith\u001b[0m \u001b[0mparser\u001b[0m\u001b[0;34m:\u001b[0m\u001b[0;34m\u001b[0m\u001b[0;34m\u001b[0m\u001b[0m\n\u001b[0;32m--> 488\u001b[0;31m         \u001b[0;32mreturn\u001b[0m \u001b[0mparser\u001b[0m\u001b[0;34m.\u001b[0m\u001b[0mread\u001b[0m\u001b[0;34m(\u001b[0m\u001b[0mnrows\u001b[0m\u001b[0;34m)\u001b[0m\u001b[0;34m\u001b[0m\u001b[0;34m\u001b[0m\u001b[0m\n\u001b[0m\u001b[1;32m    489\u001b[0m \u001b[0;34m\u001b[0m\u001b[0m\n\u001b[1;32m    490\u001b[0m \u001b[0;34m\u001b[0m\u001b[0m\n",
            "\u001b[0;32m/usr/local/lib/python3.7/dist-packages/pandas/io/parsers/readers.py\u001b[0m in \u001b[0;36mread\u001b[0;34m(self, nrows)\u001b[0m\n\u001b[1;32m   1045\u001b[0m     \u001b[0;32mdef\u001b[0m \u001b[0mread\u001b[0m\u001b[0;34m(\u001b[0m\u001b[0mself\u001b[0m\u001b[0;34m,\u001b[0m \u001b[0mnrows\u001b[0m\u001b[0;34m=\u001b[0m\u001b[0;32mNone\u001b[0m\u001b[0;34m)\u001b[0m\u001b[0;34m:\u001b[0m\u001b[0;34m\u001b[0m\u001b[0;34m\u001b[0m\u001b[0m\n\u001b[1;32m   1046\u001b[0m         \u001b[0mnrows\u001b[0m \u001b[0;34m=\u001b[0m \u001b[0mvalidate_integer\u001b[0m\u001b[0;34m(\u001b[0m\u001b[0;34m\"nrows\"\u001b[0m\u001b[0;34m,\u001b[0m \u001b[0mnrows\u001b[0m\u001b[0;34m)\u001b[0m\u001b[0;34m\u001b[0m\u001b[0;34m\u001b[0m\u001b[0m\n\u001b[0;32m-> 1047\u001b[0;31m         \u001b[0mindex\u001b[0m\u001b[0;34m,\u001b[0m \u001b[0mcolumns\u001b[0m\u001b[0;34m,\u001b[0m \u001b[0mcol_dict\u001b[0m \u001b[0;34m=\u001b[0m \u001b[0mself\u001b[0m\u001b[0;34m.\u001b[0m\u001b[0m_engine\u001b[0m\u001b[0;34m.\u001b[0m\u001b[0mread\u001b[0m\u001b[0;34m(\u001b[0m\u001b[0mnrows\u001b[0m\u001b[0;34m)\u001b[0m\u001b[0;34m\u001b[0m\u001b[0;34m\u001b[0m\u001b[0m\n\u001b[0m\u001b[1;32m   1048\u001b[0m \u001b[0;34m\u001b[0m\u001b[0m\n\u001b[1;32m   1049\u001b[0m         \u001b[0;32mif\u001b[0m \u001b[0mindex\u001b[0m \u001b[0;32mis\u001b[0m \u001b[0;32mNone\u001b[0m\u001b[0;34m:\u001b[0m\u001b[0;34m\u001b[0m\u001b[0;34m\u001b[0m\u001b[0m\n",
            "\u001b[0;32m/usr/local/lib/python3.7/dist-packages/pandas/io/parsers/c_parser_wrapper.py\u001b[0m in \u001b[0;36mread\u001b[0;34m(self, nrows)\u001b[0m\n\u001b[1;32m    222\u001b[0m         \u001b[0;32mtry\u001b[0m\u001b[0;34m:\u001b[0m\u001b[0;34m\u001b[0m\u001b[0;34m\u001b[0m\u001b[0m\n\u001b[1;32m    223\u001b[0m             \u001b[0;32mif\u001b[0m \u001b[0mself\u001b[0m\u001b[0;34m.\u001b[0m\u001b[0mlow_memory\u001b[0m\u001b[0;34m:\u001b[0m\u001b[0;34m\u001b[0m\u001b[0;34m\u001b[0m\u001b[0m\n\u001b[0;32m--> 224\u001b[0;31m                 \u001b[0mchunks\u001b[0m \u001b[0;34m=\u001b[0m \u001b[0mself\u001b[0m\u001b[0;34m.\u001b[0m\u001b[0m_reader\u001b[0m\u001b[0;34m.\u001b[0m\u001b[0mread_low_memory\u001b[0m\u001b[0;34m(\u001b[0m\u001b[0mnrows\u001b[0m\u001b[0;34m)\u001b[0m\u001b[0;34m\u001b[0m\u001b[0;34m\u001b[0m\u001b[0m\n\u001b[0m\u001b[1;32m    225\u001b[0m                 \u001b[0;31m# destructive to chunks\u001b[0m\u001b[0;34m\u001b[0m\u001b[0;34m\u001b[0m\u001b[0;34m\u001b[0m\u001b[0m\n\u001b[1;32m    226\u001b[0m                 \u001b[0mdata\u001b[0m \u001b[0;34m=\u001b[0m \u001b[0m_concatenate_chunks\u001b[0m\u001b[0;34m(\u001b[0m\u001b[0mchunks\u001b[0m\u001b[0;34m)\u001b[0m\u001b[0;34m\u001b[0m\u001b[0;34m\u001b[0m\u001b[0m\n",
            "\u001b[0;32m/usr/local/lib/python3.7/dist-packages/pandas/_libs/parsers.pyx\u001b[0m in \u001b[0;36mpandas._libs.parsers.TextReader.read_low_memory\u001b[0;34m()\u001b[0m\n",
            "\u001b[0;32m/usr/local/lib/python3.7/dist-packages/pandas/_libs/parsers.pyx\u001b[0m in \u001b[0;36mpandas._libs.parsers.TextReader._read_rows\u001b[0;34m()\u001b[0m\n",
            "\u001b[0;32m/usr/local/lib/python3.7/dist-packages/pandas/_libs/parsers.pyx\u001b[0m in \u001b[0;36mpandas._libs.parsers.TextReader._tokenize_rows\u001b[0;34m()\u001b[0m\n",
            "\u001b[0;32m/usr/local/lib/python3.7/dist-packages/pandas/_libs/parsers.pyx\u001b[0m in \u001b[0;36mpandas._libs.parsers.raise_parser_error\u001b[0;34m()\u001b[0m\n",
            "\u001b[0;31mParserError\u001b[0m: Error tokenizing data. C error: Expected 1 fields in line 26, saw 408\n"
          ]
        }
      ]
    },
    {
      "cell_type": "code",
      "source": [
        "# Importando o Dataframe df_imp_exp\n",
        "df_imp_exp =  pd.read_csv('../dados/Importacao_exportacao.csv',sep=',')\n",
        "df_imp_exp"
      ],
      "metadata": {
        "colab": {
          "base_uri": "https://localhost:8080/",
          "height": 360
        },
        "id": "fK2yTCzi_Gp_",
        "outputId": "a813bcf8-a923-4390-8b74-c97cb5178d93"
      },
      "execution_count": 23,
      "outputs": [
        {
          "output_type": "error",
          "ename": "FileNotFoundError",
          "evalue": "ignored",
          "traceback": [
            "\u001b[0;31m---------------------------------------------------------------------------\u001b[0m",
            "\u001b[0;31mFileNotFoundError\u001b[0m                         Traceback (most recent call last)",
            "\u001b[0;32m<ipython-input-23-13f597ae84b6>\u001b[0m in \u001b[0;36m<module>\u001b[0;34m()\u001b[0m\n\u001b[1;32m      1\u001b[0m \u001b[0;31m# Importando o Dataframe df_imp_exp\u001b[0m\u001b[0;34m\u001b[0m\u001b[0;34m\u001b[0m\u001b[0;34m\u001b[0m\u001b[0m\n\u001b[0;32m----> 2\u001b[0;31m \u001b[0mdf_imp_exp\u001b[0m \u001b[0;34m=\u001b[0m  \u001b[0mpd\u001b[0m\u001b[0;34m.\u001b[0m\u001b[0mread_csv\u001b[0m\u001b[0;34m(\u001b[0m\u001b[0;34m'../dados/Importacao-exportacao.csv'\u001b[0m\u001b[0;34m,\u001b[0m\u001b[0msep\u001b[0m\u001b[0;34m=\u001b[0m\u001b[0;34m','\u001b[0m\u001b[0;34m)\u001b[0m\u001b[0;34m\u001b[0m\u001b[0;34m\u001b[0m\u001b[0m\n\u001b[0m\u001b[1;32m      3\u001b[0m \u001b[0mdf_imp_exp\u001b[0m\u001b[0;34m\u001b[0m\u001b[0;34m\u001b[0m\u001b[0m\n",
            "\u001b[0;32m/usr/local/lib/python3.7/dist-packages/pandas/util/_decorators.py\u001b[0m in \u001b[0;36mwrapper\u001b[0;34m(*args, **kwargs)\u001b[0m\n\u001b[1;32m    309\u001b[0m                     \u001b[0mstacklevel\u001b[0m\u001b[0;34m=\u001b[0m\u001b[0mstacklevel\u001b[0m\u001b[0;34m,\u001b[0m\u001b[0;34m\u001b[0m\u001b[0;34m\u001b[0m\u001b[0m\n\u001b[1;32m    310\u001b[0m                 )\n\u001b[0;32m--> 311\u001b[0;31m             \u001b[0;32mreturn\u001b[0m \u001b[0mfunc\u001b[0m\u001b[0;34m(\u001b[0m\u001b[0;34m*\u001b[0m\u001b[0margs\u001b[0m\u001b[0;34m,\u001b[0m \u001b[0;34m**\u001b[0m\u001b[0mkwargs\u001b[0m\u001b[0;34m)\u001b[0m\u001b[0;34m\u001b[0m\u001b[0;34m\u001b[0m\u001b[0m\n\u001b[0m\u001b[1;32m    312\u001b[0m \u001b[0;34m\u001b[0m\u001b[0m\n\u001b[1;32m    313\u001b[0m         \u001b[0;32mreturn\u001b[0m \u001b[0mwrapper\u001b[0m\u001b[0;34m\u001b[0m\u001b[0;34m\u001b[0m\u001b[0m\n",
            "\u001b[0;32m/usr/local/lib/python3.7/dist-packages/pandas/io/parsers/readers.py\u001b[0m in \u001b[0;36mread_csv\u001b[0;34m(filepath_or_buffer, sep, delimiter, header, names, index_col, usecols, squeeze, prefix, mangle_dupe_cols, dtype, engine, converters, true_values, false_values, skipinitialspace, skiprows, skipfooter, nrows, na_values, keep_default_na, na_filter, verbose, skip_blank_lines, parse_dates, infer_datetime_format, keep_date_col, date_parser, dayfirst, cache_dates, iterator, chunksize, compression, thousands, decimal, lineterminator, quotechar, quoting, doublequote, escapechar, comment, encoding, encoding_errors, dialect, error_bad_lines, warn_bad_lines, on_bad_lines, delim_whitespace, low_memory, memory_map, float_precision, storage_options)\u001b[0m\n\u001b[1;32m    584\u001b[0m     \u001b[0mkwds\u001b[0m\u001b[0;34m.\u001b[0m\u001b[0mupdate\u001b[0m\u001b[0;34m(\u001b[0m\u001b[0mkwds_defaults\u001b[0m\u001b[0;34m)\u001b[0m\u001b[0;34m\u001b[0m\u001b[0;34m\u001b[0m\u001b[0m\n\u001b[1;32m    585\u001b[0m \u001b[0;34m\u001b[0m\u001b[0m\n\u001b[0;32m--> 586\u001b[0;31m     \u001b[0;32mreturn\u001b[0m \u001b[0m_read\u001b[0m\u001b[0;34m(\u001b[0m\u001b[0mfilepath_or_buffer\u001b[0m\u001b[0;34m,\u001b[0m \u001b[0mkwds\u001b[0m\u001b[0;34m)\u001b[0m\u001b[0;34m\u001b[0m\u001b[0;34m\u001b[0m\u001b[0m\n\u001b[0m\u001b[1;32m    587\u001b[0m \u001b[0;34m\u001b[0m\u001b[0m\n\u001b[1;32m    588\u001b[0m \u001b[0;34m\u001b[0m\u001b[0m\n",
            "\u001b[0;32m/usr/local/lib/python3.7/dist-packages/pandas/io/parsers/readers.py\u001b[0m in \u001b[0;36m_read\u001b[0;34m(filepath_or_buffer, kwds)\u001b[0m\n\u001b[1;32m    480\u001b[0m \u001b[0;34m\u001b[0m\u001b[0m\n\u001b[1;32m    481\u001b[0m     \u001b[0;31m# Create the parser.\u001b[0m\u001b[0;34m\u001b[0m\u001b[0;34m\u001b[0m\u001b[0;34m\u001b[0m\u001b[0m\n\u001b[0;32m--> 482\u001b[0;31m     \u001b[0mparser\u001b[0m \u001b[0;34m=\u001b[0m \u001b[0mTextFileReader\u001b[0m\u001b[0;34m(\u001b[0m\u001b[0mfilepath_or_buffer\u001b[0m\u001b[0;34m,\u001b[0m \u001b[0;34m**\u001b[0m\u001b[0mkwds\u001b[0m\u001b[0;34m)\u001b[0m\u001b[0;34m\u001b[0m\u001b[0;34m\u001b[0m\u001b[0m\n\u001b[0m\u001b[1;32m    483\u001b[0m \u001b[0;34m\u001b[0m\u001b[0m\n\u001b[1;32m    484\u001b[0m     \u001b[0;32mif\u001b[0m \u001b[0mchunksize\u001b[0m \u001b[0;32mor\u001b[0m \u001b[0miterator\u001b[0m\u001b[0;34m:\u001b[0m\u001b[0;34m\u001b[0m\u001b[0;34m\u001b[0m\u001b[0m\n",
            "\u001b[0;32m/usr/local/lib/python3.7/dist-packages/pandas/io/parsers/readers.py\u001b[0m in \u001b[0;36m__init__\u001b[0;34m(self, f, engine, **kwds)\u001b[0m\n\u001b[1;32m    809\u001b[0m             \u001b[0mself\u001b[0m\u001b[0;34m.\u001b[0m\u001b[0moptions\u001b[0m\u001b[0;34m[\u001b[0m\u001b[0;34m\"has_index_names\"\u001b[0m\u001b[0;34m]\u001b[0m \u001b[0;34m=\u001b[0m \u001b[0mkwds\u001b[0m\u001b[0;34m[\u001b[0m\u001b[0;34m\"has_index_names\"\u001b[0m\u001b[0;34m]\u001b[0m\u001b[0;34m\u001b[0m\u001b[0;34m\u001b[0m\u001b[0m\n\u001b[1;32m    810\u001b[0m \u001b[0;34m\u001b[0m\u001b[0m\n\u001b[0;32m--> 811\u001b[0;31m         \u001b[0mself\u001b[0m\u001b[0;34m.\u001b[0m\u001b[0m_engine\u001b[0m \u001b[0;34m=\u001b[0m \u001b[0mself\u001b[0m\u001b[0;34m.\u001b[0m\u001b[0m_make_engine\u001b[0m\u001b[0;34m(\u001b[0m\u001b[0mself\u001b[0m\u001b[0;34m.\u001b[0m\u001b[0mengine\u001b[0m\u001b[0;34m)\u001b[0m\u001b[0;34m\u001b[0m\u001b[0;34m\u001b[0m\u001b[0m\n\u001b[0m\u001b[1;32m    812\u001b[0m \u001b[0;34m\u001b[0m\u001b[0m\n\u001b[1;32m    813\u001b[0m     \u001b[0;32mdef\u001b[0m \u001b[0mclose\u001b[0m\u001b[0;34m(\u001b[0m\u001b[0mself\u001b[0m\u001b[0;34m)\u001b[0m\u001b[0;34m:\u001b[0m\u001b[0;34m\u001b[0m\u001b[0;34m\u001b[0m\u001b[0m\n",
            "\u001b[0;32m/usr/local/lib/python3.7/dist-packages/pandas/io/parsers/readers.py\u001b[0m in \u001b[0;36m_make_engine\u001b[0;34m(self, engine)\u001b[0m\n\u001b[1;32m   1038\u001b[0m             )\n\u001b[1;32m   1039\u001b[0m         \u001b[0;31m# error: Too many arguments for \"ParserBase\"\u001b[0m\u001b[0;34m\u001b[0m\u001b[0;34m\u001b[0m\u001b[0;34m\u001b[0m\u001b[0m\n\u001b[0;32m-> 1040\u001b[0;31m         \u001b[0;32mreturn\u001b[0m \u001b[0mmapping\u001b[0m\u001b[0;34m[\u001b[0m\u001b[0mengine\u001b[0m\u001b[0;34m]\u001b[0m\u001b[0;34m(\u001b[0m\u001b[0mself\u001b[0m\u001b[0;34m.\u001b[0m\u001b[0mf\u001b[0m\u001b[0;34m,\u001b[0m \u001b[0;34m**\u001b[0m\u001b[0mself\u001b[0m\u001b[0;34m.\u001b[0m\u001b[0moptions\u001b[0m\u001b[0;34m)\u001b[0m  \u001b[0;31m# type: ignore[call-arg]\u001b[0m\u001b[0;34m\u001b[0m\u001b[0;34m\u001b[0m\u001b[0m\n\u001b[0m\u001b[1;32m   1041\u001b[0m \u001b[0;34m\u001b[0m\u001b[0m\n\u001b[1;32m   1042\u001b[0m     \u001b[0;32mdef\u001b[0m \u001b[0m_failover_to_python\u001b[0m\u001b[0;34m(\u001b[0m\u001b[0mself\u001b[0m\u001b[0;34m)\u001b[0m\u001b[0;34m:\u001b[0m\u001b[0;34m\u001b[0m\u001b[0;34m\u001b[0m\u001b[0m\n",
            "\u001b[0;32m/usr/local/lib/python3.7/dist-packages/pandas/io/parsers/c_parser_wrapper.py\u001b[0m in \u001b[0;36m__init__\u001b[0;34m(self, src, **kwds)\u001b[0m\n\u001b[1;32m     49\u001b[0m \u001b[0;34m\u001b[0m\u001b[0m\n\u001b[1;32m     50\u001b[0m         \u001b[0;31m# open handles\u001b[0m\u001b[0;34m\u001b[0m\u001b[0;34m\u001b[0m\u001b[0;34m\u001b[0m\u001b[0m\n\u001b[0;32m---> 51\u001b[0;31m         \u001b[0mself\u001b[0m\u001b[0;34m.\u001b[0m\u001b[0m_open_handles\u001b[0m\u001b[0;34m(\u001b[0m\u001b[0msrc\u001b[0m\u001b[0;34m,\u001b[0m \u001b[0mkwds\u001b[0m\u001b[0;34m)\u001b[0m\u001b[0;34m\u001b[0m\u001b[0;34m\u001b[0m\u001b[0m\n\u001b[0m\u001b[1;32m     52\u001b[0m         \u001b[0;32massert\u001b[0m \u001b[0mself\u001b[0m\u001b[0;34m.\u001b[0m\u001b[0mhandles\u001b[0m \u001b[0;32mis\u001b[0m \u001b[0;32mnot\u001b[0m \u001b[0;32mNone\u001b[0m\u001b[0;34m\u001b[0m\u001b[0;34m\u001b[0m\u001b[0m\n\u001b[1;32m     53\u001b[0m \u001b[0;34m\u001b[0m\u001b[0m\n",
            "\u001b[0;32m/usr/local/lib/python3.7/dist-packages/pandas/io/parsers/base_parser.py\u001b[0m in \u001b[0;36m_open_handles\u001b[0;34m(self, src, kwds)\u001b[0m\n\u001b[1;32m    227\u001b[0m             \u001b[0mmemory_map\u001b[0m\u001b[0;34m=\u001b[0m\u001b[0mkwds\u001b[0m\u001b[0;34m.\u001b[0m\u001b[0mget\u001b[0m\u001b[0;34m(\u001b[0m\u001b[0;34m\"memory_map\"\u001b[0m\u001b[0;34m,\u001b[0m \u001b[0;32mFalse\u001b[0m\u001b[0;34m)\u001b[0m\u001b[0;34m,\u001b[0m\u001b[0;34m\u001b[0m\u001b[0;34m\u001b[0m\u001b[0m\n\u001b[1;32m    228\u001b[0m             \u001b[0mstorage_options\u001b[0m\u001b[0;34m=\u001b[0m\u001b[0mkwds\u001b[0m\u001b[0;34m.\u001b[0m\u001b[0mget\u001b[0m\u001b[0;34m(\u001b[0m\u001b[0;34m\"storage_options\"\u001b[0m\u001b[0;34m,\u001b[0m \u001b[0;32mNone\u001b[0m\u001b[0;34m)\u001b[0m\u001b[0;34m,\u001b[0m\u001b[0;34m\u001b[0m\u001b[0;34m\u001b[0m\u001b[0m\n\u001b[0;32m--> 229\u001b[0;31m             \u001b[0merrors\u001b[0m\u001b[0;34m=\u001b[0m\u001b[0mkwds\u001b[0m\u001b[0;34m.\u001b[0m\u001b[0mget\u001b[0m\u001b[0;34m(\u001b[0m\u001b[0;34m\"encoding_errors\"\u001b[0m\u001b[0;34m,\u001b[0m \u001b[0;34m\"strict\"\u001b[0m\u001b[0;34m)\u001b[0m\u001b[0;34m,\u001b[0m\u001b[0;34m\u001b[0m\u001b[0;34m\u001b[0m\u001b[0m\n\u001b[0m\u001b[1;32m    230\u001b[0m         )\n\u001b[1;32m    231\u001b[0m \u001b[0;34m\u001b[0m\u001b[0m\n",
            "\u001b[0;32m/usr/local/lib/python3.7/dist-packages/pandas/io/common.py\u001b[0m in \u001b[0;36mget_handle\u001b[0;34m(path_or_buf, mode, encoding, compression, memory_map, is_text, errors, storage_options)\u001b[0m\n\u001b[1;32m    705\u001b[0m                 \u001b[0mencoding\u001b[0m\u001b[0;34m=\u001b[0m\u001b[0mioargs\u001b[0m\u001b[0;34m.\u001b[0m\u001b[0mencoding\u001b[0m\u001b[0;34m,\u001b[0m\u001b[0;34m\u001b[0m\u001b[0;34m\u001b[0m\u001b[0m\n\u001b[1;32m    706\u001b[0m                 \u001b[0merrors\u001b[0m\u001b[0;34m=\u001b[0m\u001b[0merrors\u001b[0m\u001b[0;34m,\u001b[0m\u001b[0;34m\u001b[0m\u001b[0;34m\u001b[0m\u001b[0m\n\u001b[0;32m--> 707\u001b[0;31m                 \u001b[0mnewline\u001b[0m\u001b[0;34m=\u001b[0m\u001b[0;34m\"\"\u001b[0m\u001b[0;34m,\u001b[0m\u001b[0;34m\u001b[0m\u001b[0;34m\u001b[0m\u001b[0m\n\u001b[0m\u001b[1;32m    708\u001b[0m             )\n\u001b[1;32m    709\u001b[0m         \u001b[0;32melse\u001b[0m\u001b[0;34m:\u001b[0m\u001b[0;34m\u001b[0m\u001b[0;34m\u001b[0m\u001b[0m\n",
            "\u001b[0;31mFileNotFoundError\u001b[0m: [Errno 2] No such file or directory: '../dados/Importacao-exportacao.csv'"
          ]
        }
      ]
    },
    {
      "cell_type": "markdown",
      "source": [
        "**Utilizando os dados históricos disponíveis no arquivo de excel \"Performance_Mensal.xls\" responda as seguintes pergutas e descreva o raciocínio utilizado.**"
      ],
      "metadata": {
        "id": "zAJpni0i9mwy"
      }
    },
    {
      "cell_type": "markdown",
      "source": [
        "\n",
        "**a. As exportações de aço brasileiras são representativas no mercado internacional, o Brasil foi o 12º maior exportador de produtos siderúrgicos em 2019. Qual foi o trimestre em que houve a maior exportação de aço? Qual foi o preço aproximado? É possivel identificar alguma relação entre preço e quantidade exportada?**"
      ],
      "metadata": {
        "id": "qpkqMt2M9t4g"
      }
    },
    {
      "cell_type": "code",
      "source": [
        "# Trimestre com maior exportação de aço em 2019\n",
        "df_fil = df_imp_exp[(df_imp_exp.ano == 2019) & (df_imp_exp.categoria =='Exportacao') \n",
        "                    & (df_imp_exp.subcategoria=='Total(mil_t)')]\n",
        "\n",
        "df_tri = pd.DataFrame(df_fil.groupby(['trimestre'])['valor'].sum())\n",
        "\n",
        "df_tri = df_tri.sort_values(by='valor',ascending=False)\n",
        "print('O segundo trimestre teve maior número de exportação com:'+ ' ' + str(df_tri.iloc[0][0]) + ' ' + 'toneladas')"
      ],
      "metadata": {
        "id": "oiEeuVvd_Q0Z"
      },
      "execution_count": null,
      "outputs": []
    },
    {
      "cell_type": "markdown",
      "source": [
        "O segundo trimestre teve maior número de exportação com: 3398.041 toneladas."
      ],
      "metadata": {
        "id": "2XkG4WY8_adQ"
      }
    },
    {
      "cell_type": "code",
      "source": [
        "# Preço médio aproximado do aço em dolar/tonelada:\n",
        "df_avg = df_imp_exp[(df_imp_exp.ano ==2019)&(df_imp_exp.categoria =='Exportacao')&(df_imp_exp.trimestre ==2)]\n",
        "\n",
        "df_avg = pd.DataFrame(df_avg.groupby(['subcategoria'])['valor'].sum())\n",
        "\n",
        "avg = ((df_avg.iloc[1]*1000000) / (df_avg.iloc[0]*1000)).round(3)\n",
        "print('A média do preço do aço no segundo trimestre de 2019 foi:' + ' ' 'US$'+ str(avg[0]) + ' '+'por tonelada.')"
      ],
      "metadata": {
        "id": "I6tWSDYk_dqr"
      },
      "execution_count": null,
      "outputs": []
    },
    {
      "cell_type": "markdown",
      "source": [
        "A média do preço do aço no segundo trimestre de 2019 foi: US$606.699 por tonelada."
      ],
      "metadata": {
        "id": "DsiNQ-xx_gBk"
      }
    },
    {
      "cell_type": "code",
      "source": [
        "# Analisando a correlação entre quantidade exportada e preço médio\n",
        "table = df_imp_exp.pivot_table('valor', index =['categoria', 'periodo', 'ano', 'mes','trimestre'], columns =['subcategoria'])\n",
        "\n",
        "table_ren = table.rename_axis(None,axis=1)\n",
        "\n",
        "table_ren = table_ren.reset_index()\n",
        "table_ren['preco_medio(dolar/ton)'] = (table_ren['milhoes(dolar)']*1000000) / (table_ren['Total(mil_t)']*1000)\n",
        "table_ren[['preco_medio(dolar/ton)','Total(mil_t)']].corr()"
      ],
      "metadata": {
        "id": "omdXu1cI_mJh"
      },
      "execution_count": null,
      "outputs": []
    },
    {
      "cell_type": "code",
      "source": [
        "# Plotando a correlação entre preço médio e quantidade\n",
        "ax = sns.scatterplot(data = table_ren, x=\"preco_medio(dolar/ton)\", y=\"Total(mil_t)\")\n",
        "ax.set_title('Correlação entre preço médio e quantidade', size = 13)\n",
        "ax.set_xlabel('Preço_médio(US$/ton)')\n",
        "ax.set_ylabel('Quantidade(Mil_ton)')\n",
        "ax;"
      ],
      "metadata": {
        "id": "nWcFewhv_rM3"
      },
      "execution_count": null,
      "outputs": []
    },
    {
      "cell_type": "markdown",
      "source": [
        "Conclusão: No ano de 2019, o periodo com maior exportação foi o segundo trimestre com 3398.041 tonelas com o preço médio de US$606.699 por tonelada. Avaliando a correlação entre a quantidade exportada eo preço médio é possivel obervar que há uma correlação negativa exponencial entre as variáveis."
      ],
      "metadata": {
        "id": "ODfW33xK_vHJ"
      }
    },
    {
      "cell_type": "markdown",
      "source": [
        "\n",
        "**b. Dado que o desempenho da siderurgia está ligado ao desempenho econômico do país, utilize a série histórica do consumo aparente de aço brasileiro e faça uma análise exploratória, explicando as mudanças de tendência observadas.**"
      ],
      "metadata": {
        "id": "9Weh0zag_0kz"
      }
    },
    {
      "cell_type": "code",
      "source": [
        "# Avaliando graficamente o consumo aparente ao longo do tempo\n",
        "df_consumo = df_quantidade[df_quantidade['categoria']=='Caparente']\n",
        "aparente = df_consumo.groupby(df_consumo['periodo'])['quantidade'].sum()\n",
        "\n",
        "plt.figure(figsize = (12,6))\n",
        "ap = aparente.plot()\n",
        "ap.set_title('Consumo aparente de aço',size=15)\n",
        "ap.set_ylabel('Quantidade(mil_ton)')\n",
        "ap.set_xlabel('Período')\n",
        "ap;"
      ],
      "metadata": {
        "id": "PKbuazc7_46C"
      },
      "execution_count": null,
      "outputs": []
    },
    {
      "cell_type": "markdown",
      "source": [
        "A análise exploratória utilizará a taxa de variação percentual do consumo aparente, onde a taxa de variação será calculado em relação ao mesmo trimestre do ano anterior. O período presente na planilha Performance_mensal é de Jan/2013 a Fev/2021, para realizar a análise os dados de Jan e Fev 2021 serão desconsiderados uma vez que não há dado suficiente do primeiro trimestre de 2021. Adicionalmente, não será possível calcular a taxa de variação de 2013 uma vez que não temos os dados de 2012."
      ],
      "metadata": {
        "id": "Cdh06pm7_9Qz"
      }
    },
    {
      "cell_type": "code",
      "source": [
        "# Adicionando a coluna de taxa de variação(%)\n",
        "df_total = pd.DataFrame(df_consumo.groupby(['ano','trimestre'])['quantidade'].sum()).reset_index()\n",
        "df_total.sort_values(by=['trimestre', 'ano'] , inplace = True)\n",
        "df_ca= df_total.pivot_table('quantidade',index =['trimestre'], columns =['ano'])\n",
        "df_ca = df_ca.rename_axis(None, axis=1)  \n",
        "df_ca = df_ca.reset_index()\n",
        "df_ca"
      ],
      "metadata": {
        "id": "8JCRDUWG__9h"
      },
      "execution_count": null,
      "outputs": []
    },
    {
      "cell_type": "code",
      "source": [
        "# Adicionando a coluna de taxa de variação(%)\n",
        "x = 1\n",
        "b = 0\n",
        "while(x< len(df_ca.columns)-1 and b in range(0,7)):     \n",
        "        lista_ano = [2014,2015,2016,2017,2018,2019,2020,2021]\n",
        "        df_ca['var'+ '_'+ str(lista_ano[b])] = (df_ca[df_ca.columns[x+1]]/df_ca[df_ca.columns[x]]-1)*100\n",
        "        b += 1\n",
        "        x += 1\n",
        "df_ca "
      ],
      "metadata": {
        "id": "-W41FA5FAGdi"
      },
      "execution_count": null,
      "outputs": []
    },
    {
      "cell_type": "code",
      "source": [
        "# Dropando as colunas ano\n",
        "df_var = df_ca.drop(columns = [2013, 2014, 2015, 2016, 2017, 2018, 2019, 2020, 2021])\n",
        "df_var"
      ],
      "metadata": {
        "id": "YdjM-eJ1AICp"
      },
      "execution_count": null,
      "outputs": []
    },
    {
      "cell_type": "code",
      "source": [
        "# Transformando o dado de largo para longo:\n",
        "df_var.rename({'var_2014':2014, 'var_2015':2015, 'var_2016':2016, 'var_2017':2017, \n",
        "               'var_2018':2018, 'var_2019':2019, 'var_2020':2020}, axis = 1, inplace=True)\n",
        "\n",
        "lista = df_var.columns\n",
        "lista = lista[1:8]\n",
        "df_bd = pd.melt(df_var, id_vars=['trimestre'], value_vars=lista, var_name='ano', value_name='c_aparente')\n",
        "df_bd"
      ],
      "metadata": {
        "id": "MQ74Bk5eAJbj"
      },
      "execution_count": null,
      "outputs": []
    },
    {
      "cell_type": "code",
      "source": [
        "# Importando os dados do IBGE\n",
        "df_pib = pd.read_excel('../dados/Variacao_PIB.xlsx')\n",
        "df_pib"
      ],
      "metadata": {
        "id": "wBsUtqO7AK_z"
      },
      "execution_count": null,
      "outputs": []
    },
    {
      "cell_type": "code",
      "source": [
        "# Juntando os DataFrames:\n",
        "data = pd.merge(df_bd, df_pib, how=\"inner\", on=[\"trimestre\", \"ano\"])\n",
        "data"
      ],
      "metadata": {
        "id": "Bodu7yI2AOXr"
      },
      "execution_count": null,
      "outputs": []
    },
    {
      "cell_type": "code",
      "source": [
        "# Analisando as variaveis\n",
        "pd_all = pd.melt(data, id_vars=['ano_tri'], value_vars=['c_aparente','PIB_pm'], \n",
        "                 var_name='variavel', value_name='taxa_variacao')\n",
        "\n",
        "plt.figure(figsize = (15,8))\n",
        "ax = sns.lineplot(data=pd_all, x=\"ano_tri\", y=\"taxa_variacao\", hue=\"variavel\")\n",
        "plt.xticks(rotation=30);"
      ],
      "metadata": {
        "id": "srL6brrcAQya"
      },
      "execution_count": null,
      "outputs": []
    },
    {
      "cell_type": "markdown",
      "source": [
        "\n",
        "\n",
        "O PIB apresenta uma forte relação com o consumo aparente do aço. Houve duas quedas acentuadas do consumo do aço ao longo do período. Uma queda que se inciou em 2015 e começou a se recuperar em 2016 e outra queda no início de 2020.\n",
        "\n",
        "Em 2015 o Brasil enfrentou uma crise econômica que causou uma quedo no PIB de 3,2% entre os meses de Janeiro a Setembro adicionalmente, o país estava vivendo uma instabilidade política com os escandelos de corrupção da Petrobras e Lava-Jato e abertura do processo de Impeachment de Dilma Rousseff. Esses fatores podem ter contribuído para a queda do consumo do aço. No final de 2019 e início do ano de 2020 houve o início da pandemia do Covid-19 o que pode ter causado a queda no consumo aparente do aço.\n"
      ],
      "metadata": {
        "id": "kXEghd_OASEh"
      }
    },
    {
      "cell_type": "markdown",
      "source": [
        "**c. Projeções são importantes para avaliar situações futuras e realizar planejamentos. Faça uma projeção do consumo aparente de aço para os próximos 3 anos (2020 - 2022) e avalie quais fatores e/ou variáveis influenciam a projeção.**"
      ],
      "metadata": {
        "id": "0DWPQb25Aau3"
      }
    },
    {
      "cell_type": "code",
      "source": [
        "# Vendo o dataframe quantidade\n",
        "df_quantidade.head()"
      ],
      "metadata": {
        "id": "FOXwilzyAd8y"
      },
      "execution_count": null,
      "outputs": []
    },
    {
      "cell_type": "code",
      "source": [
        "# Filtrando a categoria 'Caparente' (Consumo aparente), criando a coluna 'ds' e renomeando a coluna 'quantidade'\n",
        "df_forecast = df_quantidade[df_quantidade['categoria']=='Caparente'].groupby(['categoria','periodo'])['quantidade'].sum().reset_index()\n",
        "mes = []\n",
        "ano = []\n",
        "for per in df_forecast['periodo']:\n",
        "    periodo = per.split('_')\n",
        "    mes.append(periodo[0])\n",
        "    ano.append(periodo[1])   \n",
        "df_forecast['ano'] = ano\n",
        "df_forecast['mes'] = mes\n",
        "\n",
        "map_mes = {\n",
        "    \"Jan\": 1,\n",
        "    \"Fev\": 2,\n",
        "    \"Mar\": 3,\n",
        "    \"Abr\": 4,\n",
        "    \"Mai\": 5,\n",
        "    \"Jun\": 6,\n",
        "    \"Jul\": 7,\n",
        "    \"Ago\": 8,\n",
        "    \"Set\": 9,\n",
        "    \"Out\": 10,\n",
        "    \"Nov\": 11,\n",
        "    \"Dez\": 12\n",
        "}\n",
        "df_forecast['mes_num'] = df_forecast['mes'].map(map_mes)\n",
        "df_forecast['ds'] = df_forecast['ano'].astype(str)+'-'+df_forecast['mes_num'].astype(str)\n",
        "df_forecast = df_forecast[['ds', 'quantidade']]\n",
        "df_forecast['ds'] =  pd.to_datetime(df_forecast['ds'], format='%Y-%m')\n",
        "df_forecast.rename({'quantidade': 'y'}, axis=1, inplace=True)\n",
        "df_forecast = df_forecast.sort_values(by=\"ds\")"
      ],
      "metadata": {
        "id": "YRwiJFCGAflo"
      },
      "execution_count": null,
      "outputs": []
    },
    {
      "cell_type": "code",
      "source": [
        "# Analisando o dataframe forecast\n",
        "df_forecast.tail()"
      ],
      "metadata": {
        "id": "wTh6lv8FAjR3"
      },
      "execution_count": null,
      "outputs": []
    },
    {
      "cell_type": "code",
      "source": [
        "# Utilizando a bibloteca Prophet para realizar o forecast \n",
        "m = Prophet().fit(df_forecast)\n",
        "future = m.make_future_dataframe(periods=34, freq='MS')\n",
        "fcst = m.predict(future)\n",
        "fig = m.plot(fcst)"
      ],
      "metadata": {
        "id": "kOLHn65QAlO4"
      },
      "execution_count": null,
      "outputs": []
    },
    {
      "cell_type": "code",
      "source": [
        "# Dataframe do previsto com a data, média, intervalo de confiança inferior e intervalo de confiança superior\n",
        "df_previsto = fcst[['ds', 'yhat', 'yhat_lower', 'yhat_upper']]\n",
        "df_previsto.tail()"
      ],
      "metadata": {
        "id": "1KhBRovnAnmd"
      },
      "execution_count": null,
      "outputs": []
    },
    {
      "cell_type": "code",
      "source": [
        "# Realizando a decomposicao\n",
        "fig2 = m.plot_components(fcst)"
      ],
      "metadata": {
        "id": "v1ZLPBdCAq-V"
      },
      "execution_count": null,
      "outputs": []
    },
    {
      "cell_type": "code",
      "source": [
        "# Crossvalidation \n",
        "from prophet.diagnostics import cross_validation\n",
        "cutoffs = pd.date_range(start='2018-01-01', end='2020-01-01', freq='12MS')\n",
        "df_cv = cross_validation(model=m, horizon='365 days', cutoffs=cutoffs)"
      ],
      "metadata": {
        "id": "mvtqTvKiAsRn"
      },
      "execution_count": null,
      "outputs": []
    },
    {
      "cell_type": "code",
      "source": [
        "# Calculando as metricas da crossvalidation\n",
        "from prophet.diagnostics import performance_metrics\n",
        "df_p = performance_metrics(df_cv)\n",
        "df_p.head(10)"
      ],
      "metadata": {
        "id": "9dpZsR3cAv-n"
      },
      "execution_count": null,
      "outputs": []
    },
    {
      "cell_type": "markdown",
      "source": [
        "Conclusão: a previsão mostra um crescimento do consumo aparente do aço para os anos de 2021 a 2023. O modelo parece bem ajustado para o período que foi treinado. Os pontos que houve uma variação muito alta do consumo, o modelo não foi capaz de se ajustar, porém o modelo obteve um baixo erro percentual absoluto médio calculado pelo crossvalidation demonstrando uma boa acurácia."
      ],
      "metadata": {
        "id": "3Zn0H_5EAxSw"
      }
    },
    {
      "cell_type": "markdown",
      "source": [
        "## **2) Conhecimento geral**\n",
        "\n",
        "Baseado nos dados (carteira_demanda.xls) fornecidos da carteira da GSP do dia 25 de março, construa os seguintes gráficos com as bibliotecas da sua preferência (seaborn, matplotlib, Altair, etc). Tente se aproximar o máximo possível a descrição fornecida na imagem\n",
        "Carteira por tipo de demanda\n",
        "\n",
        "A GSP atende as seguintes demanda:\n",
        "\n",
        "    Comercial Gerdau\n",
        "    Corte e Dobra\n",
        "    Produção para Estoque\n",
        "    Mercado Externo\n",
        "    Mercado Interno\n",
        "    Planta/Transferência\n",
        "\n",
        "Precisamos criar um gráfico que mostre os volumes da nossa carteira para cada mês e para cada tipo de demanda, além de ter a visão se a carteira foi predita ou ela já está implantada.\n",
        "\n",
        "Faça uma breve descrição do gráfico e explique os filtros/tratamento nos dados.\n",
        "\n",
        "\n"
      ],
      "metadata": {
        "id": "2tqeo5TgBIzY"
      }
    },
    {
      "cell_type": "markdown",
      "source": [
        "## Desenvolvimento item 2"
      ],
      "metadata": {
        "id": "OxI1DeuyBwn8"
      }
    },
    {
      "cell_type": "code",
      "source": [
        "# Importando a base de dados\n",
        "df_carteira = pd.read_excel('../dados/carteira_demanda.xls')\n",
        "df_carteira"
      ],
      "metadata": {
        "colab": {
          "base_uri": "https://localhost:8080/",
          "height": 360
        },
        "id": "sy59AXjZB46I",
        "outputId": "5b0124c8-7896-4467-a559-edacd8b67e19"
      },
      "execution_count": 24,
      "outputs": [
        {
          "output_type": "error",
          "ename": "FileNotFoundError",
          "evalue": "ignored",
          "traceback": [
            "\u001b[0;31m---------------------------------------------------------------------------\u001b[0m",
            "\u001b[0;31mFileNotFoundError\u001b[0m                         Traceback (most recent call last)",
            "\u001b[0;32m<ipython-input-24-968c746c588c>\u001b[0m in \u001b[0;36m<module>\u001b[0;34m()\u001b[0m\n\u001b[1;32m      1\u001b[0m \u001b[0;31m# Importando a base de dados\u001b[0m\u001b[0;34m\u001b[0m\u001b[0;34m\u001b[0m\u001b[0;34m\u001b[0m\u001b[0m\n\u001b[0;32m----> 2\u001b[0;31m \u001b[0mdf_carteira\u001b[0m \u001b[0;34m=\u001b[0m \u001b[0mpd\u001b[0m\u001b[0;34m.\u001b[0m\u001b[0mread_excel\u001b[0m\u001b[0;34m(\u001b[0m\u001b[0;34m'../dados/carteira_demanda.xls'\u001b[0m\u001b[0;34m)\u001b[0m\u001b[0;34m\u001b[0m\u001b[0;34m\u001b[0m\u001b[0m\n\u001b[0m\u001b[1;32m      3\u001b[0m \u001b[0mdf_carteira\u001b[0m\u001b[0;34m\u001b[0m\u001b[0;34m\u001b[0m\u001b[0m\n",
            "\u001b[0;32m/usr/local/lib/python3.7/dist-packages/pandas/util/_decorators.py\u001b[0m in \u001b[0;36mwrapper\u001b[0;34m(*args, **kwargs)\u001b[0m\n\u001b[1;32m    309\u001b[0m                     \u001b[0mstacklevel\u001b[0m\u001b[0;34m=\u001b[0m\u001b[0mstacklevel\u001b[0m\u001b[0;34m,\u001b[0m\u001b[0;34m\u001b[0m\u001b[0;34m\u001b[0m\u001b[0m\n\u001b[1;32m    310\u001b[0m                 )\n\u001b[0;32m--> 311\u001b[0;31m             \u001b[0;32mreturn\u001b[0m \u001b[0mfunc\u001b[0m\u001b[0;34m(\u001b[0m\u001b[0;34m*\u001b[0m\u001b[0margs\u001b[0m\u001b[0;34m,\u001b[0m \u001b[0;34m**\u001b[0m\u001b[0mkwargs\u001b[0m\u001b[0;34m)\u001b[0m\u001b[0;34m\u001b[0m\u001b[0;34m\u001b[0m\u001b[0m\n\u001b[0m\u001b[1;32m    312\u001b[0m \u001b[0;34m\u001b[0m\u001b[0m\n\u001b[1;32m    313\u001b[0m         \u001b[0;32mreturn\u001b[0m \u001b[0mwrapper\u001b[0m\u001b[0;34m\u001b[0m\u001b[0;34m\u001b[0m\u001b[0m\n",
            "\u001b[0;32m/usr/local/lib/python3.7/dist-packages/pandas/io/excel/_base.py\u001b[0m in \u001b[0;36mread_excel\u001b[0;34m(io, sheet_name, header, names, index_col, usecols, squeeze, dtype, engine, converters, true_values, false_values, skiprows, nrows, na_values, keep_default_na, na_filter, verbose, parse_dates, date_parser, thousands, comment, skipfooter, convert_float, mangle_dupe_cols, storage_options)\u001b[0m\n\u001b[1;32m    362\u001b[0m     \u001b[0;32mif\u001b[0m \u001b[0;32mnot\u001b[0m \u001b[0misinstance\u001b[0m\u001b[0;34m(\u001b[0m\u001b[0mio\u001b[0m\u001b[0;34m,\u001b[0m \u001b[0mExcelFile\u001b[0m\u001b[0;34m)\u001b[0m\u001b[0;34m:\u001b[0m\u001b[0;34m\u001b[0m\u001b[0;34m\u001b[0m\u001b[0m\n\u001b[1;32m    363\u001b[0m         \u001b[0mshould_close\u001b[0m \u001b[0;34m=\u001b[0m \u001b[0;32mTrue\u001b[0m\u001b[0;34m\u001b[0m\u001b[0;34m\u001b[0m\u001b[0m\n\u001b[0;32m--> 364\u001b[0;31m         \u001b[0mio\u001b[0m \u001b[0;34m=\u001b[0m \u001b[0mExcelFile\u001b[0m\u001b[0;34m(\u001b[0m\u001b[0mio\u001b[0m\u001b[0;34m,\u001b[0m \u001b[0mstorage_options\u001b[0m\u001b[0;34m=\u001b[0m\u001b[0mstorage_options\u001b[0m\u001b[0;34m,\u001b[0m \u001b[0mengine\u001b[0m\u001b[0;34m=\u001b[0m\u001b[0mengine\u001b[0m\u001b[0;34m)\u001b[0m\u001b[0;34m\u001b[0m\u001b[0;34m\u001b[0m\u001b[0m\n\u001b[0m\u001b[1;32m    365\u001b[0m     \u001b[0;32melif\u001b[0m \u001b[0mengine\u001b[0m \u001b[0;32mand\u001b[0m \u001b[0mengine\u001b[0m \u001b[0;34m!=\u001b[0m \u001b[0mio\u001b[0m\u001b[0;34m.\u001b[0m\u001b[0mengine\u001b[0m\u001b[0;34m:\u001b[0m\u001b[0;34m\u001b[0m\u001b[0;34m\u001b[0m\u001b[0m\n\u001b[1;32m    366\u001b[0m         raise ValueError(\n",
            "\u001b[0;32m/usr/local/lib/python3.7/dist-packages/pandas/io/excel/_base.py\u001b[0m in \u001b[0;36m__init__\u001b[0;34m(self, path_or_buffer, engine, storage_options)\u001b[0m\n\u001b[1;32m   1190\u001b[0m             \u001b[0;32melse\u001b[0m\u001b[0;34m:\u001b[0m\u001b[0;34m\u001b[0m\u001b[0;34m\u001b[0m\u001b[0m\n\u001b[1;32m   1191\u001b[0m                 ext = inspect_excel_format(\n\u001b[0;32m-> 1192\u001b[0;31m                     \u001b[0mcontent_or_path\u001b[0m\u001b[0;34m=\u001b[0m\u001b[0mpath_or_buffer\u001b[0m\u001b[0;34m,\u001b[0m \u001b[0mstorage_options\u001b[0m\u001b[0;34m=\u001b[0m\u001b[0mstorage_options\u001b[0m\u001b[0;34m\u001b[0m\u001b[0;34m\u001b[0m\u001b[0m\n\u001b[0m\u001b[1;32m   1193\u001b[0m                 )\n\u001b[1;32m   1194\u001b[0m                 \u001b[0;32mif\u001b[0m \u001b[0mext\u001b[0m \u001b[0;32mis\u001b[0m \u001b[0;32mNone\u001b[0m\u001b[0;34m:\u001b[0m\u001b[0;34m\u001b[0m\u001b[0;34m\u001b[0m\u001b[0m\n",
            "\u001b[0;32m/usr/local/lib/python3.7/dist-packages/pandas/io/excel/_base.py\u001b[0m in \u001b[0;36minspect_excel_format\u001b[0;34m(content_or_path, storage_options)\u001b[0m\n\u001b[1;32m   1069\u001b[0m \u001b[0;34m\u001b[0m\u001b[0m\n\u001b[1;32m   1070\u001b[0m     with get_handle(\n\u001b[0;32m-> 1071\u001b[0;31m         \u001b[0mcontent_or_path\u001b[0m\u001b[0;34m,\u001b[0m \u001b[0;34m\"rb\"\u001b[0m\u001b[0;34m,\u001b[0m \u001b[0mstorage_options\u001b[0m\u001b[0;34m=\u001b[0m\u001b[0mstorage_options\u001b[0m\u001b[0;34m,\u001b[0m \u001b[0mis_text\u001b[0m\u001b[0;34m=\u001b[0m\u001b[0;32mFalse\u001b[0m\u001b[0;34m\u001b[0m\u001b[0;34m\u001b[0m\u001b[0m\n\u001b[0m\u001b[1;32m   1072\u001b[0m     ) as handle:\n\u001b[1;32m   1073\u001b[0m         \u001b[0mstream\u001b[0m \u001b[0;34m=\u001b[0m \u001b[0mhandle\u001b[0m\u001b[0;34m.\u001b[0m\u001b[0mhandle\u001b[0m\u001b[0;34m\u001b[0m\u001b[0;34m\u001b[0m\u001b[0m\n",
            "\u001b[0;32m/usr/local/lib/python3.7/dist-packages/pandas/io/common.py\u001b[0m in \u001b[0;36mget_handle\u001b[0;34m(path_or_buf, mode, encoding, compression, memory_map, is_text, errors, storage_options)\u001b[0m\n\u001b[1;32m    709\u001b[0m         \u001b[0;32melse\u001b[0m\u001b[0;34m:\u001b[0m\u001b[0;34m\u001b[0m\u001b[0;34m\u001b[0m\u001b[0m\n\u001b[1;32m    710\u001b[0m             \u001b[0;31m# Binary mode\u001b[0m\u001b[0;34m\u001b[0m\u001b[0;34m\u001b[0m\u001b[0;34m\u001b[0m\u001b[0m\n\u001b[0;32m--> 711\u001b[0;31m             \u001b[0mhandle\u001b[0m \u001b[0;34m=\u001b[0m \u001b[0mopen\u001b[0m\u001b[0;34m(\u001b[0m\u001b[0mhandle\u001b[0m\u001b[0;34m,\u001b[0m \u001b[0mioargs\u001b[0m\u001b[0;34m.\u001b[0m\u001b[0mmode\u001b[0m\u001b[0;34m)\u001b[0m\u001b[0;34m\u001b[0m\u001b[0;34m\u001b[0m\u001b[0m\n\u001b[0m\u001b[1;32m    712\u001b[0m         \u001b[0mhandles\u001b[0m\u001b[0;34m.\u001b[0m\u001b[0mappend\u001b[0m\u001b[0;34m(\u001b[0m\u001b[0mhandle\u001b[0m\u001b[0;34m)\u001b[0m\u001b[0;34m\u001b[0m\u001b[0;34m\u001b[0m\u001b[0m\n\u001b[1;32m    713\u001b[0m \u001b[0;34m\u001b[0m\u001b[0m\n",
            "\u001b[0;31mFileNotFoundError\u001b[0m: [Errno 2] No such file or directory: '../dados/carteira_demanda.xls'"
          ]
        }
      ]
    },
    {
      "cell_type": "code",
      "source": [
        "# Selecionando as colunas que serão utilizadas\n",
        "df_gps = df_carteira[['demand_type', 'due_month','predicted','quantity']]\n",
        "df_gps"
      ],
      "metadata": {
        "id": "dbXTbeq4CBF9"
      },
      "execution_count": null,
      "outputs": []
    },
    {
      "cell_type": "code",
      "source": [
        "# Verificando se há valores nulos\n",
        "df_gps.isnull().values.any()"
      ],
      "metadata": {
        "id": "2b89ScFTCEWQ"
      },
      "execution_count": null,
      "outputs": []
    },
    {
      "cell_type": "code",
      "source": [
        "# Agrupando os dados por tipo de demanda, mês e previsão\n",
        "df_carteira_gps = pd.DataFrame(df_gps.groupby(['demand_type', 'due_month','predicted'])['quantity'].sum()).reset_index()\n",
        "df_carteira_gps"
      ],
      "metadata": {
        "id": "FUnhIOwKCFCM"
      },
      "execution_count": null,
      "outputs": []
    },
    {
      "cell_type": "code",
      "source": [
        "# Plotando o gráfico para os meses M0 a M5\n",
        "temp = df_carteira_gps[df_carteira_gps['due_month'].isin(['M0','M1','M2','M3','M4','M5'])]\n",
        "temp.rename({'predicted':'Previsão'},axis=1,inplace=True)\n",
        "\n",
        "(ggplot(temp, aes(x='demand_type', y='quantity', fill='Previsão'))\n",
        " + geom_bar(stat='identity', position='stack')\n",
        " + facet_wrap('due_month', ncol=6)\n",
        " + theme(figure_size = (20,6), axis_text_x=element_text(rotation=90, hjust=1))\n",
        " + labs(title ='Carteira da GPS por tipo de demanda', y = \"Volume Total[ton]\", x=\"Tipo de demanda\")\n",
        ")"
      ],
      "metadata": {
        "id": "iwqUtwOYCGR9"
      },
      "execution_count": null,
      "outputs": []
    },
    {
      "cell_type": "markdown",
      "source": [
        "Conclusão: O gráfico demonstra que para os meses M3, M4 e M5 a carteira foi predominantemente preditiva."
      ],
      "metadata": {
        "id": "EK11Wo4VCJ4J"
      }
    }
  ]
}